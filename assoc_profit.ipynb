{
 "cells": [
  {
   "cell_type": "markdown",
   "metadata": {},
   "source": [
    "# Associate Profit Splitter\n",
    "\n",
    "## Level One:\n",
    "\n",
    "This contract will accept Ether into the contract and divide the Ether evenly among the associate level employees. This will allow the Human Resources department to pay employees quickly and efficiently.\n",
    "\n",
    "### At the top of your contract, you will need to define the following `public` variables:\n",
    "\n",
    "* `employee_one` -- The `address` of the first employee. Make sure to set this to `payable`.\n",
    "\n",
    "* `employee_two` -- Another `address payable` that represents the second employee.\n",
    "\n",
    "* `employee_three` -- The third `address payable` that represents the third employee.\n",
    "\n",
    "Create a constructor function that accepts:\n",
    "\n",
    "* `address payable _one`\n",
    "\n",
    "* `address payable _two`\n",
    "\n",
    "* `address payable _three`\n",
    "\n",
    "Within the constructor, set the employee addresses to equal the parameter values. This will allow you to avoid hardcoding the employee addresses.\n",
    "\n",
    "Next, create the following functions:\n",
    "\n",
    "* `balance` -- This function should be set to `public view returns(uint)`, and must return the contract's current balance. Since we should always be sending Ether to the beneficiaries, this function should always return `0`. If it does not, the `deposit` function is not handling the remainders properly and should be fixed. This will serve as a test function of sorts.\n",
    "\n",
    "* `deposit` -- This function should set to `public payable` check, ensuring that only the owner can call the function.\n",
    "\n",
    "  * In this function, perform the following steps:\n",
    "\n",
    "    * Set a `uint amount` to equal `msg.value / 3;` in order to calculate the split value of the Ether.\n",
    "\n",
    "    * Transfer the `amount` to `employee_one`.\n",
    "\n",
    "    * Repeat the steps for `employee_two` and `employee_three`.\n",
    "\n",
    "    * Since `uint` only contains positive whole numbers, and Solidity does not fully support float/decimals, we must deal with a potential remainder at the end of this function since `amount` will discard the remainder during division.\n",
    "\n",
    "    * We may either have `1` or `2` wei leftover, so transfer the `msg.value - amount * 3` back to `msg.sender`. This will re-multiply the `amount` by 3, then subtract it from the `msg.value` to account for any leftover wei, and send it back to Human Resources.\n",
    "\n",
    "* Create a fallback function using `function() external payable`, and call the `deposit` function from within it. This will ensure that the logic in `deposit` executes if Ether is sent directly to the contract. This is important to prevent Ether from being locked in the contract since we don't have a `withdraw` function in this use-case.\n",
    "\n",
    "#### Test the contract\n",
    "\n",
    "In the `Deploy` tab in Remix, deploy the contract to your local Ganache chain by connecting to `Injected Web3` and ensuring MetaMask is pointed to `localhost:8545`.\n",
    "\n",
    "You will need to fill in the constructor parameters with your designated `employee` addresses.\n",
    "\n",
    "Test the `deposit` function by sending various values. Keep an eye on the `employee` balances as you send different amounts of Ether to the contract and ensure the logic is executing properly.\n",
    "\n",
    "![Remix Testing](Images/remix-test.png)\n",
    "\n",
    "### Deploy the contracts to a live Testnet\n",
    "\n",
    "Once you feel comfortable with your contracts, point MetaMask to the Kovan or Ropsten network. Ensure you have test Ether on this network!\n",
    "\n",
    "After switching MetaMask to Kovan, deploy the contracts as before and copy/keep a note of their deployed addresses. The transactions will also be in your MetaMask history, and on the blockchain permanently to explore later.\n",
    "\n",
    "![Remix Deploy](Images/remix-deploy.png)\n"
   ]
  },
  {
   "cell_type": "code",
   "execution_count": null,
   "metadata": {},
   "outputs": [],
   "source": []
  }
 ],
 "metadata": {
  "kernelspec": {
   "display_name": "Python 3",
   "language": "python",
   "name": "python3"
  },
  "language_info": {
   "codemirror_mode": {
    "name": "ipython",
    "version": 3
   },
   "file_extension": ".py",
   "mimetype": "text/x-python",
   "name": "python",
   "nbconvert_exporter": "python",
   "pygments_lexer": "ipython3",
   "version": "3.7.7"
  }
 },
 "nbformat": 4,
 "nbformat_minor": 4
}
